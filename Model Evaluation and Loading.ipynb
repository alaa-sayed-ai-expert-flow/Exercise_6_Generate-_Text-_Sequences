{
 "cells": [
  {
   "cell_type": "code",
   "execution_count": 19,
   "id": "22acbb12-a042-4012-9780-1940ae007cf7",
   "metadata": {},
   "outputs": [],
   "source": [
    "# Surpress warnings:\n",
    "def warn(*args, **kwargs):\n",
    "    pass\n",
    "import warnings\n",
    "warnings.warn = warn"
   ]
  },
  {
   "cell_type": "code",
   "execution_count": 20,
   "id": "41784ecc-bb84-4f60-bf50-75205b248aa8",
   "metadata": {},
   "outputs": [],
   "source": [
    "import numpy as np\n",
    "import torch\n",
    "import torch.nn as nn"
   ]
  },
  {
   "cell_type": "code",
   "execution_count": 21,
   "id": "b3505a35-2110-4150-b768-4871a4443227",
   "metadata": {},
   "outputs": [],
   "source": [
    "best_model, char_to_int = torch.load(\"single-char_v1.1.pth\")\n",
    "n_vocab = len(char_to_int)\n",
    "int_to_char = dict((i, c) for c, i in char_to_int.items())"
   ]
  },
  {
   "cell_type": "code",
   "execution_count": 24,
   "id": "4f0fb59a-3811-44f9-a978-12f6ba2f8ed5",
   "metadata": {},
   "outputs": [],
   "source": [
    "# reload the model\n",
    "class CharModel(nn.Module):\n",
    "    def __init__(self):\n",
    "        super().__init__()\n",
    "        self.lstm = nn.LSTM(input_size=1, hidden_size=256, num_layers=2, batch_first=True)\n",
    "        self.dropout = nn.Dropout(0.2)\n",
    "        self.linear = nn.Linear(256, n_vocab)\n",
    "    def forward(self, x):\n",
    "        x, _ = self.lstm(x)\n",
    "        # take only the last output\n",
    "        x = x[:, -1, :]\n",
    "        # produce output\n",
    "        x = self.linear(self.dropout(x))\n",
    "        return x"
   ]
  },
  {
   "cell_type": "code",
   "execution_count": 25,
   "id": "bbe18aa7-f069-4b78-beac-c5320b72b248",
   "metadata": {},
   "outputs": [
    {
     "data": {
      "text/plain": [
       "<All keys matched successfully>"
      ]
     },
     "execution_count": 25,
     "metadata": {},
     "output_type": "execute_result"
    }
   ],
   "source": [
    "model = CharModel()\n",
    "model.load_state_dict(best_model)"
   ]
  },
  {
   "cell_type": "code",
   "execution_count": 26,
   "id": "dc57bd80-e146-4f21-9c20-e31e321485cf",
   "metadata": {},
   "outputs": [
    {
     "name": "stdout",
     "output_type": "stream",
     "text": [
      "guests to execution—once more the pig-baby was sneezing on the duchess’s knee, while plates and dish\n"
     ]
    }
   ],
   "source": [
    "# randomly generate a prompt\n",
    "filename = \"wonderland.txt\"\n",
    "seq_length = 100\n",
    "raw_text = open(filename, 'r', encoding='utf-8').read()\n",
    "raw_text = raw_text.lower()\n",
    "start = np.random.randint(0, len(raw_text)-seq_length)\n",
    "prompt = raw_text[start:start+seq_length]\n",
    "print(prompt)\n",
    "pattern = [char_to_int[c] for c in prompt]"
   ]
  },
  {
   "cell_type": "code",
   "execution_count": 27,
   "id": "8eefae19-343c-4107-89c1-eace01c26a6a",
   "metadata": {},
   "outputs": [
    {
     "name": "stdout",
     "output_type": "stream",
     "text": [
      "Prompt: \"guests to execution—once more the pig-baby was sneezing on the duchess’s knee, while plates and dish\"\n"
     ]
    }
   ],
   "source": [
    "model.eval()\n",
    "print('Prompt: \"%s\"' % prompt)"
   ]
  },
  {
   "cell_type": "code",
   "execution_count": 28,
   "id": "d912cfae-7bf8-4ad2-b43e-d844ebb91216",
   "metadata": {},
   "outputs": [
    {
     "name": "stdout",
     "output_type": "stream",
     "text": [
      "er oiterbed to siit had not to the said to her feanged to fer head ali them, and the shree gardeners, of n’ doassed uo her feanged ali the tert of the das and the gxecutioner went of the had never before the thi guests, alice was sereib to and sicted herter and sic googht that she was sererbll, and the could not remember to the duchess! if had no dis sooe, and the sert of the das and alice tooke it tored and she dxchusioner went of the had never before the thi guests, alice was sereib to and sicted herter and sic googht that she was sererbll, and the could not remember to the duchess! if had no dis sooe, and the sert of the das and alice tooke it tored and she dxchusioner went of the had never before the thi guests, alice was sereib to and sicted herter and sic googht that she was sererbll, and the could not remember to the duchess! if had no dis sooe, and the sert of the das and alice tooke it tored and she dxchusioner went of the had never before the thi guests, alice was sereib to a"
     ]
    }
   ],
   "source": [
    "with torch.no_grad():\n",
    "    for i in range(1000):\n",
    "        # format input array of int into PyTorch tensor\n",
    "        x = np.reshape(pattern, (1, len(pattern), 1)) / float(n_vocab)\n",
    "        x = torch.tensor(x, dtype=torch.float32)\n",
    "        # generate logits as output from the model\n",
    "        prediction = model(x)\n",
    "        # convert logits into one character\n",
    "        index = int(prediction.argmax())\n",
    "        result = int_to_char[index]\n",
    "        print(result, end=\"\")\n",
    "        # append the new character into the prompt for the next iteration\n",
    "        pattern.append(index)\n",
    "        pattern = pattern[1:]"
   ]
  }
 ],
 "metadata": {
  "kernelspec": {
   "display_name": "Python 3 (ipykernel)",
   "language": "python",
   "name": "python3"
  },
  "language_info": {
   "codemirror_mode": {
    "name": "ipython",
    "version": 3
   },
   "file_extension": ".py",
   "mimetype": "text/x-python",
   "name": "python",
   "nbconvert_exporter": "python",
   "pygments_lexer": "ipython3",
   "version": "3.10.14"
  }
 },
 "nbformat": 4,
 "nbformat_minor": 5
}
