{
 "cells": [
  {
   "cell_type": "markdown",
   "id": "0191946e-ce1b-4214-8f13-fd49071e44ef",
   "metadata": {},
   "source": [
    "# Importing Packages"
   ]
  },
  {
   "cell_type": "code",
   "execution_count": 1,
   "id": "8f1571ae-2d80-4da3-bdff-e611592aef0f",
   "metadata": {},
   "outputs": [],
   "source": [
    "import numpy as np\n",
    "import torch\n",
    "import torch.nn as nn\n",
    "import torch.optim as optim\n",
    "import torch.utils.data as data"
   ]
  },
  {
   "cell_type": "markdown",
   "id": "c1ca62ef-c0b1-4324-a377-1202da862b69",
   "metadata": {},
   "source": [
    "# load ascii text and covert to lowercase"
   ]
  },
  {
   "cell_type": "code",
   "execution_count": 2,
   "id": "62247f3b-00c3-4b7b-945c-9021eca65f14",
   "metadata": {},
   "outputs": [],
   "source": [
    "filename = \"wonderland.txt\"\n",
    "raw_text = open(filename, 'r', encoding='utf-8').read()\n",
    "raw_text = raw_text.lower()"
   ]
  },
  {
   "cell_type": "markdown",
   "id": "83a9dedd-7900-461f-b5bb-97599c2bc469",
   "metadata": {},
   "source": [
    "# create mapping of unique chars to integers"
   ]
  },
  {
   "cell_type": "code",
   "execution_count": 3,
   "id": "5ed7e12a-31bf-4a09-98be-7c8889c67e40",
   "metadata": {},
   "outputs": [],
   "source": [
    "chars = sorted(list(set(raw_text)))\n",
    "char_to_int = dict((c, i) for i, c in enumerate(chars))"
   ]
  },
  {
   "cell_type": "markdown",
   "id": "afb4cb72-0318-4462-9c8a-07625df388ae",
   "metadata": {},
   "source": [
    "# summarize the loaded data"
   ]
  },
  {
   "cell_type": "code",
   "execution_count": 4,
   "id": "313eccd0-b35c-470e-9b2a-fb15f98f7e67",
   "metadata": {},
   "outputs": [
    {
     "name": "stdout",
     "output_type": "stream",
     "text": [
      "Total Characters:  13637\n",
      "Total Vocab:  41\n"
     ]
    }
   ],
   "source": [
    "n_chars = len(raw_text)\n",
    "n_vocab = len(chars)\n",
    "print(\"Total Characters: \", n_chars)\n",
    "print(\"Total Vocab: \", n_vocab) "
   ]
  },
  {
   "cell_type": "markdown",
   "id": "9a1d9e01-b78c-4086-9743-7a6f8da800f7",
   "metadata": {},
   "source": [
    "# prepare the dataset of input to output pairs encoded as integers"
   ]
  },
  {
   "cell_type": "code",
   "execution_count": 5,
   "id": "f33e6c43-26a5-4455-a06d-3461d9c66a39",
   "metadata": {},
   "outputs": [
    {
     "name": "stdout",
     "output_type": "stream",
     "text": [
      "Total Patterns:  13537\n"
     ]
    }
   ],
   "source": [
    "seq_length = 100\n",
    "dataX = []\n",
    "dataY = []\n",
    "for i in range(0, n_chars - seq_length, 1):\n",
    "    seq_in = raw_text[i:i + seq_length]\n",
    "    seq_out = raw_text[i + seq_length]\n",
    "    dataX.append([char_to_int[char] for char in seq_in])\n",
    "    dataY.append(char_to_int[seq_out])\n",
    "n_patterns = len(dataX)\n",
    "print(\"Total Patterns: \", n_patterns)"
   ]
  },
  {
   "cell_type": "markdown",
   "id": "e47deff7-d153-46fe-8ad4-8cd96159d5ac",
   "metadata": {},
   "source": [
    "# reshape X to be [samples, time steps, features]"
   ]
  },
  {
   "cell_type": "code",
   "execution_count": 6,
   "id": "84a51596-01b1-4426-ac0d-23150c682afe",
   "metadata": {},
   "outputs": [],
   "source": [
    "X = torch.tensor(dataX, dtype=torch.float32).reshape(n_patterns, seq_length, 1)\n",
    "X = X / float(n_vocab)\n",
    "y = torch.tensor(dataY)"
   ]
  },
  {
   "cell_type": "code",
   "execution_count": 7,
   "id": "ce13043c-5713-4db4-80a4-e69f6e7ed198",
   "metadata": {},
   "outputs": [],
   "source": [
    "class CharModel(nn.Module):\n",
    "    def __init__(self):\n",
    "        super().__init__()\n",
    "        self.lstm = nn.LSTM(input_size=1, hidden_size=256, num_layers=2, batch_first=True, dropout=0.2)\n",
    "        self.dropout = nn.Dropout(0.2)\n",
    "        self.linear = nn.Linear(256, n_vocab)\n",
    "    def forward(self, x):\n",
    "        x, _ = self.lstm(x)\n",
    "        # take only the last output\n",
    "        x = x[:, -1, :]\n",
    "        # produce output\n",
    "        x = self.linear(self.dropout(x))\n",
    "        return x"
   ]
  },
  {
   "cell_type": "code",
   "execution_count": 8,
   "id": "8af6c4f2-cdaf-47cc-804c-fe9e96f4bb8d",
   "metadata": {},
   "outputs": [],
   "source": [
    "n_epochs = 40\n",
    "batch_size = 128\n",
    "model = CharModel()"
   ]
  },
  {
   "cell_type": "code",
   "execution_count": 9,
   "id": "b76bc3da-7910-49ba-aac6-43518026bee9",
   "metadata": {},
   "outputs": [],
   "source": [
    "optimizer = optim.Adam(model.parameters())\n",
    "loss_fn = nn.CrossEntropyLoss(reduction=\"sum\")\n",
    "loader = data.DataLoader(data.TensorDataset(X, y), shuffle=True, batch_size=batch_size)"
   ]
  },
  {
   "cell_type": "code",
   "execution_count": 10,
   "id": "bec82f3a-fade-4bf5-a432-61958f923f10",
   "metadata": {},
   "outputs": [
    {
     "name": "stdout",
     "output_type": "stream",
     "text": [
      "Epoch 0: Cross-entropy: 39880.2852\n",
      "Epoch 1: Cross-entropy: 39856.3789\n",
      "Epoch 2: Cross-entropy: 39745.0703\n",
      "Epoch 3: Cross-entropy: 38755.0742\n",
      "Epoch 4: Cross-entropy: 36768.9492\n",
      "Epoch 5: Cross-entropy: 35420.2539\n",
      "Epoch 6: Cross-entropy: 34578.8750\n",
      "Epoch 7: Cross-entropy: 33950.4766\n",
      "Epoch 8: Cross-entropy: 33060.2422\n",
      "Epoch 9: Cross-entropy: 32418.5059\n",
      "Epoch 10: Cross-entropy: 31766.1328\n",
      "Epoch 11: Cross-entropy: 31211.8066\n",
      "Epoch 12: Cross-entropy: 30502.1895\n",
      "Epoch 13: Cross-entropy: 29871.3340\n",
      "Epoch 14: Cross-entropy: 29196.6133\n",
      "Epoch 15: Cross-entropy: 28696.2520\n",
      "Epoch 16: Cross-entropy: 27747.6758\n",
      "Epoch 17: Cross-entropy: 27323.6309\n",
      "Epoch 18: Cross-entropy: 26494.3848\n",
      "Epoch 19: Cross-entropy: 25882.6211\n",
      "Epoch 20: Cross-entropy: 25064.1777\n",
      "Epoch 21: Cross-entropy: 24283.6074\n",
      "Epoch 22: Cross-entropy: 23618.2051\n",
      "Epoch 23: Cross-entropy: 22911.4004\n",
      "Epoch 24: Cross-entropy: 22503.9043\n",
      "Epoch 25: Cross-entropy: 21355.6230\n",
      "Epoch 26: Cross-entropy: 20680.0879\n",
      "Epoch 27: Cross-entropy: 20011.5215\n",
      "Epoch 28: Cross-entropy: 19112.8105\n",
      "Epoch 29: Cross-entropy: 18458.6504\n",
      "Epoch 30: Cross-entropy: 17753.1426\n",
      "Epoch 31: Cross-entropy: 16927.7754\n",
      "Epoch 32: Cross-entropy: 16434.4551\n",
      "Epoch 33: Cross-entropy: 15515.1377\n",
      "Epoch 34: Cross-entropy: 15289.4375\n",
      "Epoch 35: Cross-entropy: 14360.4189\n",
      "Epoch 36: Cross-entropy: 13425.7178\n",
      "Epoch 37: Cross-entropy: 12798.2705\n",
      "Epoch 38: Cross-entropy: 12535.6953\n",
      "Epoch 39: Cross-entropy: 11646.8770\n"
     ]
    }
   ],
   "source": [
    "best_model = None\n",
    "best_loss = np.inf\n",
    "for epoch in range(n_epochs):\n",
    "    model.train()\n",
    "    for X_batch, y_batch in loader:\n",
    "        y_pred = model(X_batch)\n",
    "        loss = loss_fn(y_pred, y_batch)\n",
    "        optimizer.zero_grad()\n",
    "        loss.backward()\n",
    "        optimizer.step()\n",
    "    # Validation\n",
    "    model.eval()\n",
    "    loss = 0\n",
    "    with torch.no_grad():\n",
    "        for X_batch, y_batch in loader:\n",
    "            y_pred = model(X_batch)\n",
    "            loss += loss_fn(y_pred, y_batch)\n",
    "        if loss < best_loss:\n",
    "            best_loss = loss\n",
    "            best_model = model.state_dict()\n",
    "        print(\"Epoch %d: Cross-entropy: %.4f\" % (epoch, loss))"
   ]
  },
  {
   "cell_type": "markdown",
   "id": "1d22d18c-1306-46e4-9c39-6abf6275ee3f",
   "metadata": {},
   "source": [
    "The cross entropy almost always decreasing in each epoch. This means probably the model is not fully converged and we can train it for more epochs."
   ]
  },
  {
   "cell_type": "code",
   "execution_count": 11,
   "id": "65c6f537-fc00-4fda-b805-2d91c93b6829",
   "metadata": {},
   "outputs": [],
   "source": [
    "torch.save([best_model, char_to_int], \"single-char_v1.1.pth\")"
   ]
  }
 ],
 "metadata": {
  "kernelspec": {
   "display_name": "Python 3 (ipykernel)",
   "language": "python",
   "name": "python3"
  },
  "language_info": {
   "codemirror_mode": {
    "name": "ipython",
    "version": 3
   },
   "file_extension": ".py",
   "mimetype": "text/x-python",
   "name": "python",
   "nbconvert_exporter": "python",
   "pygments_lexer": "ipython3",
   "version": "3.10.14"
  }
 },
 "nbformat": 4,
 "nbformat_minor": 5
}
